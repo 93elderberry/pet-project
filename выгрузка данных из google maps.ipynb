{
 "cells": [
  {
   "cell_type": "markdown",
   "id": "dfa8ef40",
   "metadata": {},
   "source": [
    "# Выгрузка отзывов из google maps в учебных целях, для использования в pet проекте"
   ]
  },
  {
   "cell_type": "code",
   "execution_count": 69,
   "id": "80b136ff",
   "metadata": {},
   "outputs": [],
   "source": [
    "from selenium import webdriver\n",
    "import time\n",
    "import pandas as pd"
   ]
  },
  {
   "cell_type": "code",
   "execution_count": 70,
   "id": "2dbd4d39",
   "metadata": {},
   "outputs": [],
   "source": [
    "chrome_driver_path = r'D:/Документы/Python/Площадки/chromedriver' # путь к драйверу\n"
   ]
  },
  {
   "cell_type": "code",
   "execution_count": 71,
   "id": "c7e2f7fc",
   "metadata": {},
   "outputs": [
    {
     "name": "stderr",
     "output_type": "stream",
     "text": [
      "C:\\Users\\keybi\\AppData\\Local\\Temp\\ipykernel_17828\\3194083821.py:2: DeprecationWarning: executable_path has been deprecated, please pass in a Service object\n",
      "  driver = webdriver.Chrome(executable_path=chrome_driver_path,options=options)\n"
     ]
    }
   ],
   "source": [
    "options = webdriver.ChromeOptions()\n",
    "driver = webdriver.Chrome(executable_path=chrome_driver_path,options=options)\n"
   ]
  },
  {
   "cell_type": "markdown",
   "id": "ede86648",
   "metadata": {},
   "source": [
    "options = Options() \n",
    "options.add_argument(\"--lang=ru\") \n",
    "driver = webdriver.Chrome(chrome_options=options)"
   ]
  },
  {
   "cell_type": "code",
   "execution_count": 72,
   "id": "f9291933",
   "metadata": {},
   "outputs": [],
   "source": [
    "url = 'https://www.google.com/maps/place/%D0%94%D0%B5%D1%82%D1%81%D0%BA%D0%B0%D1%8F+%D0%B8%D0%B3%D1%80%D0%BE%D0%B2%D0%B0%D1%8F+%D0%BF%D0%BB%D0%BE%D1%89%D0%B0%D0%B4%D0%BA%D0%B0+%22%D0%A1%D0%B0%D0%BB%D1%8E%D1%82%22/@55.7301648,37.6066522,651m/data=!3m1!1e3!4m7!3m6!1s0x46b54b7eea601d5f:0x7ffaa16d311ca514!8m2!3d55.7301648!4d37.6066522!9m1!1b1'\n",
    "driver.get(url)\n",
    "time.sleep(5)"
   ]
  },
  {
   "cell_type": "markdown",
   "id": "b6a5cc3a",
   "metadata": {},
   "source": [
    "## Настройка прокрутки"
   ]
  },
  {
   "cell_type": "code",
   "execution_count": 50,
   "id": "2bfa5b0c",
   "metadata": {},
   "outputs": [
    {
     "name": "stdout",
     "output_type": "stream",
     "text": [
      "last height: 924\n",
      "new height: 1801\n",
      "cont\n",
      "last height: 1801\n",
      "new height: 1801\n"
     ]
    }
   ],
   "source": [
    "SCROLL_PAUSE_TIME = 5\n",
    "\n",
    "# Получить высоту прокрутки\n",
    "last_height = driver.execute_script(\"return document.body.scrollHeight\")\n",
    "\n",
    "number = 0\n",
    "\n",
    "while True:\n",
    "    number = number+1\n",
    "\n",
    "    # Прокрутить вниз  \n",
    "    \n",
    "    ele = driver.find_element('xpath', '//*[@id=\"QA0Szd\"]/div/div/div[1]/div[2]/div/div[1]/div/div/div[2]/div[10]')\n",
    "    driver.execute_script('arguments[0].scrollBy(0, 20);', ele)\n",
    "\n",
    "    # Ожидание загрузки страницы \n",
    "\n",
    "    time.sleep(SCROLL_PAUSE_TIME)\n",
    "\n",
    "    # Рассчитываем новую высоту прокрутки и сравниваем ее с последней высотой прокрутки \n",
    "    print(f'last height: {last_height}')\n",
    "\n",
    "    ele = driver.find_element('xpath','//*[@id=\"QA0Szd\"]/div/div/div[1]/div[2]/div/div[1]/div/div/div[2]/div[10]')\n",
    "\n",
    "    new_height = driver.execute_script(\"return arguments[0].scrollHeight\", ele)\n",
    "\n",
    "    print(f'new height: {new_height}')\n",
    "\n",
    "    if number == 5:\n",
    "        break\n",
    "\n",
    "    if new_height == last_height:\n",
    "        break\n",
    "\n",
    "    print('cont')\n",
    "    last_height = new_height"
   ]
  },
  {
   "cell_type": "markdown",
   "id": "8ed328cb",
   "metadata": {},
   "source": [
    "## После прокрутки нужно открыть все «Еще» под отзывами. В противном случае отзыв будет не полным"
   ]
  },
  {
   "cell_type": "code",
   "execution_count": 63,
   "id": "024b271a",
   "metadata": {},
   "outputs": [],
   "source": [
    "item = driver.find_elements('xpath','//*[@id=\"QA0Szd\"]/div/div/div[1]/div[2]/div/div[1]/div/div/div[2]') #xpath тела отзывов\n",
    "\n",
    "time.sleep(3)"
   ]
  },
  {
   "cell_type": "code",
   "execution_count": 64,
   "id": "32414aec",
   "metadata": {},
   "outputs": [],
   "source": [
    "name_list = []\n",
    "stars_list = []\n",
    "review_list = []\n",
    "duration_list = []"
   ]
  },
  {
   "cell_type": "code",
   "execution_count": 65,
   "id": "010a3d92",
   "metadata": {},
   "outputs": [],
   "source": [
    "for i in item:\n",
    "\n",
    "    button = i.find_elements(By.TAG_NAME, 'button')\n",
    "    for m in button:\n",
    "        if m.text == \"Ещё\":\n",
    "            m.click()\n",
    "    time.sleep(5)\n",
    "\n",
    "    name = i.find_elements(By.CLASS_NAME, \"d4r55\")\n",
    "    stars = i.find_elements(By.CLASS_NAME,\"kvMYJc\")\n",
    "    review = i.find_elements(By.CLASS_NAME,\"wiI7pd\")\n",
    "    duration = i.find_elements(By.CLASS_NAME,\"rsqaWe\")\n",
    "\n",
    "    for j,k,l,p in zip(name,stars,review,duration):\n",
    "        name_list.append(j.text)\n",
    "        stars_list.append(p.text)\n",
    "        review_list.append(k.get_attribute(\"aria-label\"))\n",
    "        duration_list.append(l.text)"
   ]
  },
  {
   "cell_type": "markdown",
   "id": "b58c761a",
   "metadata": {},
   "source": [
    "## преобразовываю выводы в файл .csv."
   ]
  },
  {
   "cell_type": "code",
   "execution_count": 66,
   "id": "67e9a750",
   "metadata": {},
   "outputs": [
    {
     "name": "stdout",
     "output_type": "stream",
     "text": [
      "                    name            rating     review  \\\n",
      "0                Дмитрий   9 месяцев назад   5 звезд    \n",
      "1            Михаил Лось  11 месяцев назад   5 звезд    \n",
      "2          Vika Andreeva         год назад   5 звезд    \n",
      "3     Светлана Рабинович         год назад   5 звезд    \n",
      "4           Игорь Тухкин         год назад   5 звезд    \n",
      "..                   ...               ...        ...   \n",
      "150         Мария Репина      2 года назад   5 звезд    \n",
      "151  Кристина Емельянова      2 года назад   5 звезд    \n",
      "152     Владимир Дедюхин      2 года назад   5 звезд    \n",
      "153         Sergey Kojin      2 года назад   5 звезд    \n",
      "154     Elena Evdokimova      3 года назад   5 звезд    \n",
      "\n",
      "                                              duration  \n",
      "0    Главное, ребёнку нравится. Но летом народу оче...  \n",
      "1                                 Здесь очень весело!)  \n",
      "2    Очень классное место.Очень весело.Особенно пон...  \n",
      "3    Замечательный комплекс площадок, много качелей...  \n",
      "4                                                       \n",
      "..                                                 ...  \n",
      "150                                                     \n",
      "151  Площадка, от которой в восторг придут не тольк...  \n",
      "152                                                     \n",
      "153                                                     \n",
      "154                                                     \n",
      "\n",
      "[155 rows x 4 columns]\n"
     ]
    }
   ],
   "source": [
    "review = pd.DataFrame(\n",
    "    {'name': name_list,\n",
    "     'rating': stars_list,\n",
    "     'review': review_list,\n",
    "     'duration': duration_list})\n",
    "\n",
    "review.to_csv('google_review.csv',index=False)\n",
    "print(review)"
   ]
  },
  {
   "cell_type": "code",
   "execution_count": 67,
   "id": "9e0378c1",
   "metadata": {},
   "outputs": [],
   "source": [
    "##остановка драйвера\n",
    "driver.quit()"
   ]
  },
  {
   "cell_type": "code",
   "execution_count": null,
   "id": "853af60a",
   "metadata": {},
   "outputs": [],
   "source": []
  }
 ],
 "metadata": {
  "kernelspec": {
   "display_name": "Python 3 (ipykernel)",
   "language": "python",
   "name": "python3"
  },
  "language_info": {
   "codemirror_mode": {
    "name": "ipython",
    "version": 3
   },
   "file_extension": ".py",
   "mimetype": "text/x-python",
   "name": "python",
   "nbconvert_exporter": "python",
   "pygments_lexer": "ipython3",
   "version": "3.9.12"
  }
 },
 "nbformat": 4,
 "nbformat_minor": 5
}
